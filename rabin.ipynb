{
 "cells": [
  {
   "cell_type": "code",
   "execution_count": 4,
   "id": "1c03af",
   "metadata": {
    "collapsed": false
   },
   "outputs": [
    {
     "name": "stdout",
     "output_type": "stream",
     "text": [
      "p = 201312570100787700867945543706387488673361107400542726299479979464573533699031, q = 146381289883102974045497440862845889434260412151079478742677868553057383143063, n = 29468393681035892937144592601760035018525636224473825400860557572830187760565644451452348477900332772363653926963048776989781878793780806696677947457471953\n",
      "Titkosítandó üzenet: 7\n",
      "Titkosított üzenet: c = 49\n",
      "Lehetséges megoldások: 7, 15896526072304228322228148923089993380411866042727079737392047767442265717223201548747660405355730085889537935642286407236051077883230515362124534194578487, 13571867608731664614916443678670041638113770181746745663468509805387922043342442902704688072544602686474115991320762369753730800910550291334553413262893466, 29468393681035892937144592601760035018525636224473825400860557572830187760565644451452348477900332772363653926963048776989781878793780806696677947457471946\n",
      "Aláírás: 12894901096936819613152669056589544779339895534957929301605669836621034823666247519639104045428517843246048793432559778743846030497273490586719210222106371\n",
      "Aláírás érvényessége: True\n"
     ]
    }
   ],
   "source": [
    "# p és q a privát kulcsok\n",
    "# n a nyílvános kulcs\n",
    "# olyan nagy p és q prímszámot keresünk, amik kongruensek 3-al modulo 4-ben\n",
    "def generate_key():\n",
    "    p = next_prime(2^256 + randint(1, 2^256))\n",
    "    q = next_prime(2^256 + randint(1, 2^256))\n",
    "    while p % 4 != 3 or q % 4 != 3:\n",
    "        p = next_prime(2^256 + randint(1, 2^256))\n",
    "        q = next_prime(2^256 + randint(1, 2^256))\n",
    "    n = p * q\n",
    "    return p, q, n\n",
    "\n",
    "# m a titkosítandó üzenet (0 <= m < n)\n",
    "# c a titkosított üzenet\n",
    "def encrypt(m, n):\n",
    "    return (m^2) % n\n",
    "\n",
    "def decrypt(c,p,q):\n",
    "    n = p * q\n",
    "    # maradékok\n",
    "    r1 = power_mod(c, (p+1) // 4, p)\n",
    "    s1 = power_mod(c, (q+1) // 4, q)\n",
    "    # kínai maradéktétel\n",
    "    m1 = crt([r1,s1], [p,q])\n",
    "    m2 = crt([r1,-s1], [p,q])\n",
    "    m3 = crt([-r1,s1], [p,q])\n",
    "    m4 = crt([-r1,-s1], [p,q])\n",
    "    return m1, m2, m3, m4\n",
    "\n",
    "def sign(m, p, q):\n",
    "    h = Integer(hash(m))\n",
    "    # maradékok\n",
    "    s = power_mod(h, (p+1) // 4, p)\n",
    "    t = power_mod(h, (q+1) // 4, q)\n",
    "    # kínai maradéktétel\n",
    "    return crt([s,t], [p,q])\n",
    "\n",
    "def verify(signature, m, n):\n",
    "    h = Integer(hash(m))\n",
    "    return (signature^2) % n == h\n",
    "\n",
    "\n",
    "\n",
    "p, q, n = generate_key()\n",
    "print(f\"p = {p}, q = {q}, n = {n}\")\n",
    "\n",
    "message = 7\n",
    "print(f\"Titkosítandó üzenet: {message}\")\n",
    "c = encrypt(message, n)\n",
    "print(f\"Titkosított üzenet: c = {c}\")\n",
    "\n",
    "m1, m2, m3, m4 = decrypt(c,p,q)\n",
    "print(f\"Lehetséges megoldások: {m1}, {m2}, {m3}, {m4}\")\n",
    "\n",
    "signature = sign(message, p, q)\n",
    "print(f\"Aláírás: {signature}\")\n",
    "\n",
    "is_valid = verify(signature, message, n)\n",
    "print(f\"Aláírás érvényessége: {is_valid}\")\n",
    "\n",
    "    "
   ]
  }
 ],
 "metadata": {
  "kernelspec": {
   "argv": [
    "sage-10.4",
    "--python",
    "-m",
    "sage.repl.ipython_kernel",
    "--matplotlib=inline",
    "-f",
    "{connection_file}"
   ],
   "display_name": "SageMath 10.4",
   "env": {
   },
   "language": "sagemath",
   "metadata": {
    "cocalc": {
     "description": "Open-source mathematical software system",
     "priority": 10,
     "url": "https://www.sagemath.org/"
    }
   },
   "name": "sage-10.4",
   "resource_dir": "/ext/jupyter/kernels/sage-10.4"
  }
 },
 "nbformat": 4,
 "nbformat_minor": 4
}